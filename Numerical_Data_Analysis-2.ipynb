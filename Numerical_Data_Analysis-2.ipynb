{
 "cells": [
  {
   "cell_type": "code",
   "execution_count": 1,
   "id": "e55b6342-8dd0-401b-8c23-90c5a2010840",
   "metadata": {},
   "outputs": [],
   "source": [
    "import pandas as pd\n",
    "import numpy as np\n",
    "import matplotlib.pyplot as plt\n",
    "import seaborn as sns"
   ]
  },
  {
   "cell_type": "code",
   "execution_count": 2,
   "id": "39dff920-1fe2-442f-8b27-ac48a5388bde",
   "metadata": {},
   "outputs": [
    {
     "data": {
      "text/html": [
       "<div>\n",
       "<style scoped>\n",
       "    .dataframe tbody tr th:only-of-type {\n",
       "        vertical-align: middle;\n",
       "    }\n",
       "\n",
       "    .dataframe tbody tr th {\n",
       "        vertical-align: top;\n",
       "    }\n",
       "\n",
       "    .dataframe thead th {\n",
       "        text-align: right;\n",
       "    }\n",
       "</style>\n",
       "<table border=\"1\" class=\"dataframe\">\n",
       "  <thead>\n",
       "    <tr style=\"text-align: right;\">\n",
       "      <th></th>\n",
       "      <th>case_id</th>\n",
       "      <th>continent</th>\n",
       "      <th>education_of_employee</th>\n",
       "      <th>has_job_experience</th>\n",
       "      <th>requires_job_training</th>\n",
       "      <th>no_of_employees</th>\n",
       "      <th>yr_of_estab</th>\n",
       "      <th>region_of_employment</th>\n",
       "      <th>prevailing_wage</th>\n",
       "      <th>unit_of_wage</th>\n",
       "      <th>full_time_position</th>\n",
       "      <th>case_status</th>\n",
       "    </tr>\n",
       "  </thead>\n",
       "  <tbody>\n",
       "    <tr>\n",
       "      <th>0</th>\n",
       "      <td>EZYV01</td>\n",
       "      <td>Asia</td>\n",
       "      <td>High School</td>\n",
       "      <td>N</td>\n",
       "      <td>N</td>\n",
       "      <td>14513</td>\n",
       "      <td>2007</td>\n",
       "      <td>West</td>\n",
       "      <td>592.2029</td>\n",
       "      <td>Hour</td>\n",
       "      <td>Y</td>\n",
       "      <td>Denied</td>\n",
       "    </tr>\n",
       "    <tr>\n",
       "      <th>1</th>\n",
       "      <td>EZYV02</td>\n",
       "      <td>Asia</td>\n",
       "      <td>Master's</td>\n",
       "      <td>Y</td>\n",
       "      <td>N</td>\n",
       "      <td>2412</td>\n",
       "      <td>2002</td>\n",
       "      <td>Northeast</td>\n",
       "      <td>83425.6500</td>\n",
       "      <td>Year</td>\n",
       "      <td>Y</td>\n",
       "      <td>Certified</td>\n",
       "    </tr>\n",
       "    <tr>\n",
       "      <th>2</th>\n",
       "      <td>EZYV03</td>\n",
       "      <td>Asia</td>\n",
       "      <td>Bachelor's</td>\n",
       "      <td>N</td>\n",
       "      <td>Y</td>\n",
       "      <td>44444</td>\n",
       "      <td>2008</td>\n",
       "      <td>West</td>\n",
       "      <td>122996.8600</td>\n",
       "      <td>Year</td>\n",
       "      <td>Y</td>\n",
       "      <td>Denied</td>\n",
       "    </tr>\n",
       "    <tr>\n",
       "      <th>3</th>\n",
       "      <td>EZYV04</td>\n",
       "      <td>Asia</td>\n",
       "      <td>Bachelor's</td>\n",
       "      <td>N</td>\n",
       "      <td>N</td>\n",
       "      <td>98</td>\n",
       "      <td>1897</td>\n",
       "      <td>West</td>\n",
       "      <td>83434.0300</td>\n",
       "      <td>Year</td>\n",
       "      <td>Y</td>\n",
       "      <td>Denied</td>\n",
       "    </tr>\n",
       "    <tr>\n",
       "      <th>4</th>\n",
       "      <td>EZYV05</td>\n",
       "      <td>Africa</td>\n",
       "      <td>Master's</td>\n",
       "      <td>Y</td>\n",
       "      <td>N</td>\n",
       "      <td>1082</td>\n",
       "      <td>2005</td>\n",
       "      <td>South</td>\n",
       "      <td>149907.3900</td>\n",
       "      <td>Year</td>\n",
       "      <td>Y</td>\n",
       "      <td>Certified</td>\n",
       "    </tr>\n",
       "    <tr>\n",
       "      <th>...</th>\n",
       "      <td>...</td>\n",
       "      <td>...</td>\n",
       "      <td>...</td>\n",
       "      <td>...</td>\n",
       "      <td>...</td>\n",
       "      <td>...</td>\n",
       "      <td>...</td>\n",
       "      <td>...</td>\n",
       "      <td>...</td>\n",
       "      <td>...</td>\n",
       "      <td>...</td>\n",
       "      <td>...</td>\n",
       "    </tr>\n",
       "    <tr>\n",
       "      <th>25475</th>\n",
       "      <td>EZYV25476</td>\n",
       "      <td>Asia</td>\n",
       "      <td>Bachelor's</td>\n",
       "      <td>Y</td>\n",
       "      <td>Y</td>\n",
       "      <td>2601</td>\n",
       "      <td>2008</td>\n",
       "      <td>South</td>\n",
       "      <td>77092.5700</td>\n",
       "      <td>Year</td>\n",
       "      <td>Y</td>\n",
       "      <td>Certified</td>\n",
       "    </tr>\n",
       "    <tr>\n",
       "      <th>25476</th>\n",
       "      <td>EZYV25477</td>\n",
       "      <td>Asia</td>\n",
       "      <td>High School</td>\n",
       "      <td>Y</td>\n",
       "      <td>N</td>\n",
       "      <td>3274</td>\n",
       "      <td>2006</td>\n",
       "      <td>Northeast</td>\n",
       "      <td>279174.7900</td>\n",
       "      <td>Year</td>\n",
       "      <td>Y</td>\n",
       "      <td>Certified</td>\n",
       "    </tr>\n",
       "    <tr>\n",
       "      <th>25477</th>\n",
       "      <td>EZYV25478</td>\n",
       "      <td>Asia</td>\n",
       "      <td>Master's</td>\n",
       "      <td>Y</td>\n",
       "      <td>N</td>\n",
       "      <td>1121</td>\n",
       "      <td>1910</td>\n",
       "      <td>South</td>\n",
       "      <td>146298.8500</td>\n",
       "      <td>Year</td>\n",
       "      <td>N</td>\n",
       "      <td>Certified</td>\n",
       "    </tr>\n",
       "    <tr>\n",
       "      <th>25478</th>\n",
       "      <td>EZYV25479</td>\n",
       "      <td>Asia</td>\n",
       "      <td>Master's</td>\n",
       "      <td>Y</td>\n",
       "      <td>Y</td>\n",
       "      <td>1918</td>\n",
       "      <td>1887</td>\n",
       "      <td>West</td>\n",
       "      <td>86154.7700</td>\n",
       "      <td>Year</td>\n",
       "      <td>Y</td>\n",
       "      <td>Certified</td>\n",
       "    </tr>\n",
       "    <tr>\n",
       "      <th>25479</th>\n",
       "      <td>EZYV25480</td>\n",
       "      <td>Asia</td>\n",
       "      <td>Bachelor's</td>\n",
       "      <td>Y</td>\n",
       "      <td>N</td>\n",
       "      <td>3195</td>\n",
       "      <td>1960</td>\n",
       "      <td>Midwest</td>\n",
       "      <td>70876.9100</td>\n",
       "      <td>Year</td>\n",
       "      <td>Y</td>\n",
       "      <td>Certified</td>\n",
       "    </tr>\n",
       "  </tbody>\n",
       "</table>\n",
       "<p>25480 rows × 12 columns</p>\n",
       "</div>"
      ],
      "text/plain": [
       "         case_id continent education_of_employee has_job_experience  \\\n",
       "0         EZYV01      Asia           High School                  N   \n",
       "1         EZYV02      Asia              Master's                  Y   \n",
       "2         EZYV03      Asia            Bachelor's                  N   \n",
       "3         EZYV04      Asia            Bachelor's                  N   \n",
       "4         EZYV05    Africa              Master's                  Y   \n",
       "...          ...       ...                   ...                ...   \n",
       "25475  EZYV25476      Asia            Bachelor's                  Y   \n",
       "25476  EZYV25477      Asia           High School                  Y   \n",
       "25477  EZYV25478      Asia              Master's                  Y   \n",
       "25478  EZYV25479      Asia              Master's                  Y   \n",
       "25479  EZYV25480      Asia            Bachelor's                  Y   \n",
       "\n",
       "      requires_job_training  no_of_employees  yr_of_estab  \\\n",
       "0                         N            14513         2007   \n",
       "1                         N             2412         2002   \n",
       "2                         Y            44444         2008   \n",
       "3                         N               98         1897   \n",
       "4                         N             1082         2005   \n",
       "...                     ...              ...          ...   \n",
       "25475                     Y             2601         2008   \n",
       "25476                     N             3274         2006   \n",
       "25477                     N             1121         1910   \n",
       "25478                     Y             1918         1887   \n",
       "25479                     N             3195         1960   \n",
       "\n",
       "      region_of_employment  prevailing_wage unit_of_wage full_time_position  \\\n",
       "0                     West         592.2029         Hour                  Y   \n",
       "1                Northeast       83425.6500         Year                  Y   \n",
       "2                     West      122996.8600         Year                  Y   \n",
       "3                     West       83434.0300         Year                  Y   \n",
       "4                    South      149907.3900         Year                  Y   \n",
       "...                    ...              ...          ...                ...   \n",
       "25475                South       77092.5700         Year                  Y   \n",
       "25476            Northeast      279174.7900         Year                  Y   \n",
       "25477                South      146298.8500         Year                  N   \n",
       "25478                 West       86154.7700         Year                  Y   \n",
       "25479              Midwest       70876.9100         Year                  Y   \n",
       "\n",
       "      case_status  \n",
       "0          Denied  \n",
       "1       Certified  \n",
       "2          Denied  \n",
       "3          Denied  \n",
       "4       Certified  \n",
       "...           ...  \n",
       "25475   Certified  \n",
       "25476   Certified  \n",
       "25477   Certified  \n",
       "25478   Certified  \n",
       "25479   Certified  \n",
       "\n",
       "[25480 rows x 12 columns]"
      ]
     },
     "execution_count": 2,
     "metadata": {},
     "output_type": "execute_result"
    }
   ],
   "source": [
    "file1=r\"C:\\Users\\surya\\Downloads\\Python files\\Visadataset.csv\"\n",
    "visa_df=pd.read_csv(file1)\n",
    "visa_df"
   ]
  },
  {
   "cell_type": "markdown",
   "id": "2d910697-905a-4600-9e19-91d03cc91f62",
   "metadata": {},
   "source": [
    "# **Histogram**"
   ]
  },
  {
   "cell_type": "code",
   "execution_count": 3,
   "id": "9d3d9087-98a0-4059-bb47-df2b83b0e335",
   "metadata": {},
   "outputs": [
    {
     "data": {
      "text/plain": [
       "(array([6038., 5504., 5681., 4551., 2334.,  624.,  373.,  240.,  114.,\n",
       "          21.]),\n",
       " array([2.13670000e+00, 3.19229500e+04, 6.38437634e+04, 9.57645767e+04,\n",
       "        1.27685390e+05, 1.59606203e+05, 1.91527017e+05, 2.23447830e+05,\n",
       "        2.55368643e+05, 2.87289457e+05, 3.19210270e+05]),\n",
       " <BarContainer object of 10 artists>)"
      ]
     },
     "execution_count": 3,
     "metadata": {},
     "output_type": "execute_result"
    },
    {
     "data": {
      "image/png": "[encoded data removed]",
      "text/plain": [
       "<Figure size 640x480 with 1 Axes>"
      ]
     },
     "metadata": {},
     "output_type": "display_data"
    }
   ],
   "source": [
    "plt.hist(visa_df['prevailing_wage'])"
   ]
  },
  {
   "cell_type": "code",
   "execution_count": 4,
   "id": "750ae04a-ef2d-4c62-8795-cd991ccef19e",
   "metadata": {},
   "outputs": [
    {
     "data": {
      "text/plain": [
       "(array([2.475e+03, 3.380e+02, 3.330e+02, 3.750e+02, 3.420e+02, 3.830e+02,\n",
       "        4.220e+02, 4.100e+02, 4.710e+02, 4.890e+02, 5.080e+02, 4.850e+02,\n",
       "        5.140e+02, 5.950e+02, 5.740e+02, 5.580e+02, 5.570e+02, 5.510e+02,\n",
       "        5.790e+02, 5.830e+02, 5.790e+02, 6.050e+02, 5.780e+02, 5.760e+02,\n",
       "        5.510e+02, 6.080e+02, 5.510e+02, 5.660e+02, 5.380e+02, 5.290e+02,\n",
       "        5.030e+02, 5.440e+02, 4.850e+02, 4.680e+02, 4.850e+02, 4.700e+02,\n",
       "        4.410e+02, 3.750e+02, 4.070e+02, 3.730e+02, 3.750e+02, 2.980e+02,\n",
       "        2.820e+02, 2.570e+02, 2.400e+02, 2.290e+02, 1.910e+02, 1.730e+02,\n",
       "        1.540e+02, 1.350e+02, 9.900e+01, 1.120e+02, 8.000e+01, 5.900e+01,\n",
       "        5.800e+01, 4.900e+01, 4.200e+01, 3.900e+01, 4.800e+01, 3.800e+01,\n",
       "        3.900e+01, 4.000e+01, 4.500e+01, 4.200e+01, 4.000e+01, 3.800e+01,\n",
       "        3.500e+01, 3.400e+01, 2.400e+01, 3.600e+01, 2.100e+01, 2.800e+01,\n",
       "        3.400e+01, 2.300e+01, 2.300e+01, 2.900e+01, 1.600e+01, 2.900e+01,\n",
       "        1.900e+01, 1.800e+01, 1.600e+01, 1.200e+01, 1.400e+01, 1.300e+01,\n",
       "        1.100e+01, 1.500e+01, 7.000e+00, 1.300e+01, 5.000e+00, 8.000e+00,\n",
       "        3.000e+00, 1.000e+00, 3.000e+00, 2.000e+00, 1.000e+00, 3.000e+00,\n",
       "        3.000e+00, 1.000e+00, 2.000e+00, 2.000e+00]),\n",
       " array([2.13670000e+00, 3.19421803e+03, 6.38629937e+03, 9.57838070e+03,\n",
       "        1.27704620e+04, 1.59625434e+04, 1.91546247e+04, 2.23467060e+04,\n",
       "        2.55387874e+04, 2.87308687e+04, 3.19229500e+04, 3.51150314e+04,\n",
       "        3.83071127e+04, 4.14991940e+04, 4.46912754e+04, 4.78833567e+04,\n",
       "        5.10754380e+04, 5.42675194e+04, 5.74596007e+04, 6.06516820e+04,\n",
       "        6.38437634e+04, 6.70358447e+04, 7.02279260e+04, 7.34200074e+04,\n",
       "        7.66120887e+04, 7.98041700e+04, 8.29962514e+04, 8.61883327e+04,\n",
       "        8.93804140e+04, 9.25724954e+04, 9.57645767e+04, 9.89566580e+04,\n",
       "        1.02148739e+05, 1.05340821e+05, 1.08532902e+05, 1.11724983e+05,\n",
       "        1.14917065e+05, 1.18109146e+05, 1.21301227e+05, 1.24493309e+05,\n",
       "        1.27685390e+05, 1.30877471e+05, 1.34069553e+05, 1.37261634e+05,\n",
       "        1.40453715e+05, 1.43645797e+05, 1.46837878e+05, 1.50029959e+05,\n",
       "        1.53222041e+05, 1.56414122e+05, 1.59606203e+05, 1.62798285e+05,\n",
       "        1.65990366e+05, 1.69182447e+05, 1.72374529e+05, 1.75566610e+05,\n",
       "        1.78758691e+05, 1.81950773e+05, 1.85142854e+05, 1.88334935e+05,\n",
       "        1.91527017e+05, 1.94719098e+05, 1.97911179e+05, 2.01103261e+05,\n",
       "        2.04295342e+05, 2.07487423e+05, 2.10679505e+05, 2.13871586e+05,\n",
       "        2.17063667e+05, 2.20255749e+05, 2.23447830e+05, 2.26639911e+05,\n",
       "        2.29831993e+05, 2.33024074e+05, 2.36216155e+05, 2.39408237e+05,\n",
       "        2.42600318e+05, 2.45792399e+05, 2.48984481e+05, 2.52176562e+05,\n",
       "        2.55368643e+05, 2.58560725e+05, 2.61752806e+05, 2.64944887e+05,\n",
       "        2.68136969e+05, 2.71329050e+05, 2.74521131e+05, 2.77713213e+05,\n",
       "        2.80905294e+05, 2.84097375e+05, 2.87289457e+05, 2.90481538e+05,\n",
       "        2.93673619e+05, 2.96865701e+05, 3.00057782e+05, 3.03249863e+05,\n",
       "        3.06441945e+05, 3.09634026e+05, 3.12826107e+05, 3.16018189e+05,\n",
       "        3.19210270e+05]),\n",
       " <BarContainer object of 100 artists>)"
      ]
     },
     "execution_count": 4,
     "metadata": {},
     "output_type": "execute_result"
    },
    {
     "data": {
      "image/png": "[encoded data removed]",
      "text/plain": [
       "<Figure size 640x480 with 1 Axes>"
      ]
     },
     "metadata": {},
     "output_type": "display_data"
    }
   ],
   "source": [
    "#bins\n",
    "plt.hist(visa_df['prevailing_wage'],bins=100)"
   ]
  },
  {
   "cell_type": "code",
   "execution_count": 7,
   "id": "98fb0ea6-87f3-41f2-889b-07fc115dc2cb",
   "metadata": {},
   "outputs": [
    {
     "data": {
      "image/png": "[encoded data removed]",
      "text/plain": [
       "<Figure size 640x480 with 1 Axes>"
      ]
     },
     "metadata": {},
     "output_type": "display_data"
    }
   ],
   "source": [
    "f,i,n = plt.hist(visa_df['prevailing_wage'],bins=40)"
   ]
  },
  {
   "cell_type": "code",
   "execution_count": 8,
   "id": "3345eb44-9e3d-4eb8-8c5b-d8dfbb4c80ad",
   "metadata": {},
   "outputs": [
    {
     "data": {
      "text/plain": [
       "(40, 41, 40)"
      ]
     },
     "execution_count": 8,
     "metadata": {},
     "output_type": "execute_result"
    }
   ],
   "source": [
    "len(f),len(i),len(n)"
   ]
  },
  {
   "cell_type": "code",
   "execution_count": 9,
   "id": "7bb7510c-277c-4aac-ba30-5bbada7b3397",
   "metadata": {},
   "outputs": [
    {
     "data": {
      "text/plain": [
       "array([2992.,  871., 1005., 1170., 1242., 1434., 1385., 1443., 1444.,\n",
       "       1445., 1457., 1335., 1268., 1217., 1088.,  978.,  807.,  645.,\n",
       "        509.,  373.,  264.,  144.,  105.,  111.,  107.,   99.,   88.,\n",
       "         79.,   65.,   64.,   58.,   53.,   33.,   33.,   29.,   19.,\n",
       "          7.,    3.,    6.,    5.])"
      ]
     },
     "execution_count": 9,
     "metadata": {},
     "output_type": "execute_result"
    }
   ],
   "source": [
    "f"
   ]
  },
  {
   "cell_type": "code",
   "execution_count": 10,
   "id": "c892c8d8-0eaa-4b59-a31f-df2cf13fd16f",
   "metadata": {},
   "outputs": [
    {
     "data": {
      "text/plain": [
       "array([2.13670000e+00, 7.98234003e+03, 1.59625434e+04, 2.39427467e+04,\n",
       "       3.19229500e+04, 3.99031534e+04, 4.78833567e+04, 5.58635600e+04,\n",
       "       6.38437634e+04, 7.18239667e+04, 7.98041700e+04, 8.77843734e+04,\n",
       "       9.57645767e+04, 1.03744780e+05, 1.11724983e+05, 1.19705187e+05,\n",
       "       1.27685390e+05, 1.35665593e+05, 1.43645797e+05, 1.51626000e+05,\n",
       "       1.59606203e+05, 1.67586407e+05, 1.75566610e+05, 1.83546813e+05,\n",
       "       1.91527017e+05, 1.99507220e+05, 2.07487423e+05, 2.15467627e+05,\n",
       "       2.23447830e+05, 2.31428033e+05, 2.39408237e+05, 2.47388440e+05,\n",
       "       2.55368643e+05, 2.63348847e+05, 2.71329050e+05, 2.79309253e+05,\n",
       "       2.87289457e+05, 2.95269660e+05, 3.03249863e+05, 3.11230067e+05,\n",
       "       3.19210270e+05])"
      ]
     },
     "execution_count": 10,
     "metadata": {},
     "output_type": "execute_result"
    }
   ],
   "source": [
    "i"
   ]
  },
  {
   "cell_type": "code",
   "execution_count": 24,
   "id": "73b0fc68-c1a3-475a-9067-2c05b4ac0fc0",
   "metadata": {},
   "outputs": [
    {
     "data": {
      "text/plain": [
       "<BarContainer object of 40 artists>"
      ]
     },
     "execution_count": 24,
     "metadata": {},
     "output_type": "execute_result"
    }
   ],
   "source": [
    "n"
   ]
  },
  {
   "cell_type": "code",
   "execution_count": null,
   "id": "c6f17a21-bb73-4395-876b-9614909e0347",
   "metadata": {},
   "outputs": [],
   "source": [
    "between 2.13670000e+00, 7.98234003e+03  --------> we have 2992 observations\n",
    "between 7.98234003e+03,  1.59625434e+04 --------> we have 871 observations\n"
   ]
  },
  {
   "cell_type": "code",
   "execution_count": 11,
   "id": "3dee1f53-5631-43cf-b6d1-e82d97f4ac40",
   "metadata": {},
   "outputs": [
    {
     "data": {
      "text/plain": [
       "2992"
      ]
     },
     "execution_count": 11,
     "metadata": {},
     "output_type": "execute_result"
    }
   ],
   "source": [
    "l=2.13670000e+00\n",
    "u=7.98234003e+03\n",
    "\n",
    "c1=visa_df['prevailing_wage']>=l\n",
    "c2=visa_df['prevailing_wage']<u\n",
    "\n",
    "c=c1&c2\n",
    "len(visa_df[c])"
   ]
  },
  {
   "cell_type": "code",
   "execution_count": 12,
   "id": "5e6b427c-2735-4c62-bae4-16a1e8b33464",
   "metadata": {},
   "outputs": [
    {
     "name": "stdout",
     "output_type": "stream",
     "text": [
      "871\n"
     ]
    }
   ],
   "source": [
    "# implementing functions for above\n",
    "def frequency(l,u):\n",
    "    c1=visa_df['prevailing_wage']>=l\n",
    "    c2=visa_df['prevailing_wage']<u\n",
    "    c=c1&c2\n",
    "    print(len(visa_df[c]))\n",
    "frequency(7.98234003e+03, 1.59625434e+04)\n",
    "    "
   ]
  },
  {
   "cell_type": "markdown",
   "id": "86a92964-fa3f-4b71-a0b1-58856d114afa",
   "metadata": {},
   "source": [
    "# **task-1**"
   ]
  },
  {
   "cell_type": "code",
   "execution_count": 62,
   "id": "76b14958-0c81-4ec0-968d-a8b913a317f5",
   "metadata": {},
   "outputs": [
    {
     "data": {
      "text/html": [
       "<div>\n",
       "<style scoped>\n",
       "    .dataframe tbody tr th:only-of-type {\n",
       "        vertical-align: middle;\n",
       "    }\n",
       "\n",
       "    .dataframe tbody tr th {\n",
       "        vertical-align: top;\n",
       "    }\n",
       "\n",
       "    .dataframe thead th {\n",
       "        text-align: right;\n",
       "    }\n",
       "</style>\n",
       "<table border=\"1\" class=\"dataframe\">\n",
       "  <thead>\n",
       "    <tr style=\"text-align: right;\">\n",
       "      <th></th>\n",
       "      <th>Lower_Bound</th>\n",
       "      <th>Upper_Bound</th>\n",
       "      <th>Frequency</th>\n",
       "    </tr>\n",
       "  </thead>\n",
       "  <tbody>\n",
       "    <tr>\n",
       "      <th>0</th>\n",
       "      <td>2.136700</td>\n",
       "      <td>7982.340033</td>\n",
       "      <td>2992</td>\n",
       "    </tr>\n",
       "    <tr>\n",
       "      <th>1</th>\n",
       "      <td>7982.340033</td>\n",
       "      <td>15962.543365</td>\n",
       "      <td>871</td>\n",
       "    </tr>\n",
       "    <tr>\n",
       "      <th>2</th>\n",
       "      <td>15962.543365</td>\n",
       "      <td>23942.746698</td>\n",
       "      <td>1005</td>\n",
       "    </tr>\n",
       "    <tr>\n",
       "      <th>3</th>\n",
       "      <td>23942.746698</td>\n",
       "      <td>31922.950030</td>\n",
       "      <td>1170</td>\n",
       "    </tr>\n",
       "    <tr>\n",
       "      <th>4</th>\n",
       "      <td>31922.950030</td>\n",
       "      <td>39903.153363</td>\n",
       "      <td>1242</td>\n",
       "    </tr>\n",
       "    <tr>\n",
       "      <th>5</th>\n",
       "      <td>39903.153363</td>\n",
       "      <td>47883.356695</td>\n",
       "      <td>1434</td>\n",
       "    </tr>\n",
       "    <tr>\n",
       "      <th>6</th>\n",
       "      <td>47883.356695</td>\n",
       "      <td>55863.560028</td>\n",
       "      <td>1385</td>\n",
       "    </tr>\n",
       "    <tr>\n",
       "      <th>7</th>\n",
       "      <td>55863.560028</td>\n",
       "      <td>63843.763360</td>\n",
       "      <td>1443</td>\n",
       "    </tr>\n",
       "    <tr>\n",
       "      <th>8</th>\n",
       "      <td>63843.763360</td>\n",
       "      <td>71823.966693</td>\n",
       "      <td>1444</td>\n",
       "    </tr>\n",
       "    <tr>\n",
       "      <th>9</th>\n",
       "      <td>71823.966693</td>\n",
       "      <td>79804.170025</td>\n",
       "      <td>1445</td>\n",
       "    </tr>\n",
       "    <tr>\n",
       "      <th>10</th>\n",
       "      <td>79804.170025</td>\n",
       "      <td>87784.373358</td>\n",
       "      <td>1457</td>\n",
       "    </tr>\n",
       "    <tr>\n",
       "      <th>11</th>\n",
       "      <td>87784.373358</td>\n",
       "      <td>95764.576690</td>\n",
       "      <td>1335</td>\n",
       "    </tr>\n",
       "    <tr>\n",
       "      <th>12</th>\n",
       "      <td>95764.576690</td>\n",
       "      <td>103744.780023</td>\n",
       "      <td>1268</td>\n",
       "    </tr>\n",
       "    <tr>\n",
       "      <th>13</th>\n",
       "      <td>103744.780023</td>\n",
       "      <td>111724.983355</td>\n",
       "      <td>1217</td>\n",
       "    </tr>\n",
       "    <tr>\n",
       "      <th>14</th>\n",
       "      <td>111724.983355</td>\n",
       "      <td>119705.186688</td>\n",
       "      <td>1088</td>\n",
       "    </tr>\n",
       "    <tr>\n",
       "      <th>15</th>\n",
       "      <td>119705.186688</td>\n",
       "      <td>127685.390020</td>\n",
       "      <td>978</td>\n",
       "    </tr>\n",
       "    <tr>\n",
       "      <th>16</th>\n",
       "      <td>127685.390020</td>\n",
       "      <td>135665.593353</td>\n",
       "      <td>807</td>\n",
       "    </tr>\n",
       "    <tr>\n",
       "      <th>17</th>\n",
       "      <td>135665.593353</td>\n",
       "      <td>143645.796685</td>\n",
       "      <td>645</td>\n",
       "    </tr>\n",
       "    <tr>\n",
       "      <th>18</th>\n",
       "      <td>143645.796685</td>\n",
       "      <td>151626.000018</td>\n",
       "      <td>509</td>\n",
       "    </tr>\n",
       "    <tr>\n",
       "      <th>19</th>\n",
       "      <td>151626.000018</td>\n",
       "      <td>159606.203350</td>\n",
       "      <td>373</td>\n",
       "    </tr>\n",
       "    <tr>\n",
       "      <th>20</th>\n",
       "      <td>159606.203350</td>\n",
       "      <td>167586.406683</td>\n",
       "      <td>264</td>\n",
       "    </tr>\n",
       "    <tr>\n",
       "      <th>21</th>\n",
       "      <td>167586.406683</td>\n",
       "      <td>175566.610015</td>\n",
       "      <td>144</td>\n",
       "    </tr>\n",
       "    <tr>\n",
       "      <th>22</th>\n",
       "      <td>175566.610015</td>\n",
       "      <td>183546.813348</td>\n",
       "      <td>105</td>\n",
       "    </tr>\n",
       "    <tr>\n",
       "      <th>23</th>\n",
       "      <td>183546.813348</td>\n",
       "      <td>191527.016680</td>\n",
       "      <td>111</td>\n",
       "    </tr>\n",
       "    <tr>\n",
       "      <th>24</th>\n",
       "      <td>191527.016680</td>\n",
       "      <td>199507.220013</td>\n",
       "      <td>107</td>\n",
       "    </tr>\n",
       "    <tr>\n",
       "      <th>25</th>\n",
       "      <td>199507.220013</td>\n",
       "      <td>207487.423345</td>\n",
       "      <td>99</td>\n",
       "    </tr>\n",
       "    <tr>\n",
       "      <th>26</th>\n",
       "      <td>207487.423345</td>\n",
       "      <td>215467.626678</td>\n",
       "      <td>88</td>\n",
       "    </tr>\n",
       "    <tr>\n",
       "      <th>27</th>\n",
       "      <td>215467.626678</td>\n",
       "      <td>223447.830010</td>\n",
       "      <td>79</td>\n",
       "    </tr>\n",
       "    <tr>\n",
       "      <th>28</th>\n",
       "      <td>223447.830010</td>\n",
       "      <td>231428.033343</td>\n",
       "      <td>65</td>\n",
       "    </tr>\n",
       "    <tr>\n",
       "      <th>29</th>\n",
       "      <td>231428.033343</td>\n",
       "      <td>239408.236675</td>\n",
       "      <td>64</td>\n",
       "    </tr>\n",
       "    <tr>\n",
       "      <th>30</th>\n",
       "      <td>239408.236675</td>\n",
       "      <td>247388.440008</td>\n",
       "      <td>58</td>\n",
       "    </tr>\n",
       "    <tr>\n",
       "      <th>31</th>\n",
       "      <td>247388.440008</td>\n",
       "      <td>255368.643340</td>\n",
       "      <td>53</td>\n",
       "    </tr>\n",
       "    <tr>\n",
       "      <th>32</th>\n",
       "      <td>255368.643340</td>\n",
       "      <td>263348.846673</td>\n",
       "      <td>33</td>\n",
       "    </tr>\n",
       "    <tr>\n",
       "      <th>33</th>\n",
       "      <td>263348.846673</td>\n",
       "      <td>271329.050005</td>\n",
       "      <td>33</td>\n",
       "    </tr>\n",
       "    <tr>\n",
       "      <th>34</th>\n",
       "      <td>271329.050005</td>\n",
       "      <td>279309.253338</td>\n",
       "      <td>29</td>\n",
       "    </tr>\n",
       "    <tr>\n",
       "      <th>35</th>\n",
       "      <td>279309.253338</td>\n",
       "      <td>287289.456670</td>\n",
       "      <td>19</td>\n",
       "    </tr>\n",
       "    <tr>\n",
       "      <th>36</th>\n",
       "      <td>287289.456670</td>\n",
       "      <td>295269.660002</td>\n",
       "      <td>7</td>\n",
       "    </tr>\n",
       "    <tr>\n",
       "      <th>37</th>\n",
       "      <td>295269.660002</td>\n",
       "      <td>303249.863335</td>\n",
       "      <td>3</td>\n",
       "    </tr>\n",
       "    <tr>\n",
       "      <th>38</th>\n",
       "      <td>303249.863335</td>\n",
       "      <td>311230.066668</td>\n",
       "      <td>6</td>\n",
       "    </tr>\n",
       "  </tbody>\n",
       "</table>\n",
       "</div>"
      ],
      "text/plain": [
       "      Lower_Bound    Upper_Bound  Frequency\n",
       "0        2.136700    7982.340033       2992\n",
       "1     7982.340033   15962.543365        871\n",
       "2    15962.543365   23942.746698       1005\n",
       "3    23942.746698   31922.950030       1170\n",
       "4    31922.950030   39903.153363       1242\n",
       "5    39903.153363   47883.356695       1434\n",
       "6    47883.356695   55863.560028       1385\n",
       "7    55863.560028   63843.763360       1443\n",
       "8    63843.763360   71823.966693       1444\n",
       "9    71823.966693   79804.170025       1445\n",
       "10   79804.170025   87784.373358       1457\n",
       "11   87784.373358   95764.576690       1335\n",
       "12   95764.576690  103744.780023       1268\n",
       "13  103744.780023  111724.983355       1217\n",
       "14  111724.983355  119705.186688       1088\n",
       "15  119705.186688  127685.390020        978\n",
       "16  127685.390020  135665.593353        807\n",
       "17  135665.593353  143645.796685        645\n",
       "18  143645.796685  151626.000018        509\n",
       "19  151626.000018  159606.203350        373\n",
       "20  159606.203350  167586.406683        264\n",
       "21  167586.406683  175566.610015        144\n",
       "22  175566.610015  183546.813348        105\n",
       "23  183546.813348  191527.016680        111\n",
       "24  191527.016680  199507.220013        107\n",
       "25  199507.220013  207487.423345         99\n",
       "26  207487.423345  215467.626678         88\n",
       "27  215467.626678  223447.830010         79\n",
       "28  223447.830010  231428.033343         65\n",
       "29  231428.033343  239408.236675         64\n",
       "30  239408.236675  247388.440008         58\n",
       "31  247388.440008  255368.643340         53\n",
       "32  255368.643340  263348.846673         33\n",
       "33  263348.846673  271329.050005         33\n",
       "34  271329.050005  279309.253338         29\n",
       "35  279309.253338  287289.456670         19\n",
       "36  287289.456670  295269.660002          7\n",
       "37  295269.660002  303249.863335          3\n",
       "38  303249.863335  311230.066668          6"
      ]
     },
     "execution_count": 62,
     "metadata": {},
     "output_type": "execute_result"
    },
    {
     "data": {
      "image/png": "[encoded data removed]",
      "text/plain": [
       "<Figure size 640x480 with 1 Axes>"
      ]
     },
     "metadata": {},
     "output_type": "display_data"
    }
   ],
   "source": [
    "# create a df\n",
    "#lowerbound  upperbound  frequency\n",
    "#  2.136         7.89        2993\n",
    "frequency=[]\n",
    "lower_bound=b[:-2]\n",
    "upper_bound=b[1:]\n",
    "a,b,c=plt.hist(visa_df['prevailing_wage'],bins=40)\n",
    "for i in range(len(b)-1):\n",
    "    if i == len(b):\n",
    "        break\n",
    "    else:\n",
    "        l=b[i]\n",
    "        u=b[i+1]\n",
    "        c1=visa_df['prevailing_wage']>=l\n",
    "        c2=visa_df['prevailing_wage']<u\n",
    "        c=c1&c2\n",
    "        frequency.append(len(visa_df[c]))\n",
    "\n",
    "df=pd.DataFrame(zip(lower_bound,upper_bound,frequency),columns=['Lower_Bound','Upper_Bound','Frequency'])\n",
    "df\n",
    "        \n"
   ]
  },
  {
   "cell_type": "markdown",
   "id": "73f2092e-9586-4bae-b5b7-4290991fa936",
   "metadata": {},
   "source": [
    "# **task-2**"
   ]
  },
  {
   "cell_type": "code",
   "execution_count": null,
   "id": "eddf20fe-81d9-4688-9d09-5a7124ef90ea",
   "metadata": {},
   "outputs": [],
   "source": [
    "# in seaborn how to plot histogram"
   ]
  },
  {
   "cell_type": "code",
   "execution_count": 63,
   "id": "09e85bb0-3ee5-41c5-b698-b1d40b878c43",
   "metadata": {},
   "outputs": [
    {
     "data": {
      "image/png": "[encoded data removed]",
      "text/plain": [
       "<Figure size 640x480 with 1 Axes>"
      ]
     },
     "metadata": {},
     "output_type": "display_data"
    }
   ],
   "source": [
    "sns.histplot(data = visa_df,x='prevailing_wage')\n",
    "plt.show()"
   ]
  },
  {
   "cell_type": "markdown",
   "id": "9f3b8e8a-64b4-4c71-a9c1-dae4817b6b67",
   "metadata": {},
   "source": [
    "# ****Box_Plot****\n",
    "- used to identify outliers\n",
    "- we have Q1 : 25p value\n",
    "- Q2 : 50p value\n",
    "- Q3 : 75p value\n",
    "- IQR= Q3-Q1\n",
    "- Mild_outliers Q1-1.5 * IQR and Q3+1.5 * IQR\n",
    "- Huge_outliers Q1-3 * IQR and Q3+3 * IQR"
   ]
  },
  {
   "cell_type": "code",
   "execution_count": 14,
   "id": "ce02dc32-36f3-4f21-bd29-2017a7725ae4",
   "metadata": {},
   "outputs": [
    {
     "data": {
      "text/plain": [
       "{'whiskers': [<matplotlib.lines.Line2D at 0x1f35117bf10>,\n",
       "  <matplotlib.lines.Line2D at 0x1f35118f550>],\n",
       " 'caps': [<matplotlib.lines.Line2D at 0x1f3511a4150>,\n",
       "  <matplotlib.lines.Line2D at 0x1f3511a4bd0>],\n",
       " 'boxes': [<matplotlib.lines.Line2D at 0x1f35118dc90>],\n",
       " 'medians': [<matplotlib.lines.Line2D at 0x1f3511a5690>],\n",
       " 'fliers': [<matplotlib.lines.Line2D at 0x1f3511a6150>],\n",
       " 'means': []}"
      ]
     },
     "execution_count": 14,
     "metadata": {},
     "output_type": "execute_result"
    },
    {
     "data": {
      "image/png": "[encoded data removed]",
      "text/plain": [
       "<Figure size 640x480 with 1 Axes>"
      ]
     },
     "metadata": {},
     "output_type": "display_data"
    }
   ],
   "source": [
    "plt.boxplot(visa_df['prevailing_wage'])"
   ]
  },
  {
   "cell_type": "code",
   "execution_count": 15,
   "id": "ada6cfb0-d917-4f25-b754-99a8029fdb74",
   "metadata": {},
   "outputs": [
    {
     "data": {
      "image/png": "[encoded data removed]",
      "text/plain": [
       "<Figure size 640x480 with 1 Axes>"
      ]
     },
     "metadata": {},
     "output_type": "display_data"
    }
   ],
   "source": [
    "# to avoid data in output we use plt.show()\n",
    "plt.boxplot(visa_df['prevailing_wage'])\n",
    "plt.show()\n",
    "\n",
    "# black dots----> outliers\n",
    "# orange line---> median"
   ]
  },
  {
   "cell_type": "code",
   "execution_count": 17,
   "id": "d48b8943-3a2d-42c8-a24a-a51d7660f2fc",
   "metadata": {},
   "outputs": [
    {
     "data": {
      "image/png": "[encoded data removed]",
      "text/plain": [
       "<Figure size 640x480 with 1 Axes>"
      ]
     },
     "metadata": {},
     "output_type": "display_data"
    }
   ],
   "source": [
    "plt.boxplot(visa_df['prevailing_wage'],vert=False)\n",
    "plt.show()"
   ]
  },
  {
   "cell_type": "code",
   "execution_count": null,
   "id": "686c6035-5bcd-4914-a97c-9a5f4c290696",
   "metadata": {},
   "outputs": [],
   "source": []
  }
 ],
 "metadata": {
  "kernelspec": {
   "display_name": "Python 3 (ipykernel)",
   "language": "python",
   "name": "python3"
  },
  "language_info": {
   "codemirror_mode": {
    "name": "ipython",
    "version": 3
   },
   "file_extension": ".py",
   "mimetype": "text/x-python",
   "name": "python",
   "nbconvert_exporter": "python",
   "pygments_lexer": "ipython3",
   "version": "3.11.5"
  }
 },
 "nbformat": 4,
 "nbformat_minor": 5
}
